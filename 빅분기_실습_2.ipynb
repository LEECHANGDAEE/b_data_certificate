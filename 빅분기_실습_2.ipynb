{
  "nbformat": 4,
  "nbformat_minor": 0,
  "metadata": {
    "colab": {
      "name": "빅분기_실습_2.ipynb",
      "provenance": [],
      "authorship_tag": "ABX9TyNaiMI6c7Zi+18x/ubTmhJs",
      "include_colab_link": true
    },
    "kernelspec": {
      "name": "python3",
      "display_name": "Python 3"
    },
    "language_info": {
      "name": "python"
    }
  },
  "cells": [
    {
      "cell_type": "markdown",
      "metadata": {
        "id": "view-in-github",
        "colab_type": "text"
      },
      "source": [
        "<a href=\"https://colab.research.google.com/github/LEECHANGDAEE/b_data_certificate/blob/main/%EB%B9%85%EB%B6%84%EA%B8%B0_%EC%8B%A4%EC%8A%B5_2.ipynb\" target=\"_parent\"><img src=\"https://colab.research.google.com/assets/colab-badge.svg\" alt=\"Open In Colab\"/></a>"
      ]
    },
    {
      "cell_type": "code",
      "metadata": {
        "id": "8D4TfGvi2jQx"
      },
      "source": [
        "import pandas as pd\n",
        "import numpy as np\n",
        "from sklearn.linear_model import LogisticRegression\n",
        "from sklearn.preprocessing import MinMaxScaler, StandardScaler\n",
        "from sklearn.model_selection import train_test_split\n",
        "from sklearn.metrics import confusion_matrix\n",
        "import warnings"
      ],
      "execution_count": 2,
      "outputs": []
    },
    {
      "cell_type": "code",
      "metadata": {
        "id": "wMF_qGH73Fxd"
      },
      "source": [
        "warnings.filterwarnings('ignore')"
      ],
      "execution_count": 3,
      "outputs": []
    },
    {
      "cell_type": "code",
      "metadata": {
        "id": "VuNSR20l3U8-"
      },
      "source": [
        "data = pd.read_csv('breast-cancer-wisconsin.csv',encoding = 'cp949')\n",
        "X = data[data.columns[1:10]]\n",
        "y = data[['Class']]"
      ],
      "execution_count": 4,
      "outputs": []
    },
    {
      "cell_type": "code",
      "metadata": {
        "id": "krqsWhrv3p5H"
      },
      "source": [
        ""
      ],
      "execution_count": 5,
      "outputs": []
    },
    {
      "cell_type": "code",
      "metadata": {
        "id": "VTE8eoiW3eIh"
      },
      "source": [
        "X_train, X_test, y_train, y_test = train_test_split(X,y, stratify=y, random_state =42)"
      ],
      "execution_count": 6,
      "outputs": []
    },
    {
      "cell_type": "code",
      "metadata": {
        "id": "5Ql-97CM3nYY"
      },
      "source": [
        "X_train, X_test, y_train, y_test = train_test_split(X,y, stratify=y, random_state =42)\n",
        "scaler = MinMaxScaler()\n",
        "scaler.fit(X_train)\n",
        "X_scaled_minmax_train = scaler.transform(X_train)\n",
        "X_scaled_minmax_test = scaler.transform(X_test)\n"
      ],
      "execution_count": 7,
      "outputs": []
    },
    {
      "cell_type": "code",
      "metadata": {
        "colab": {
          "base_uri": "https://localhost:8080/"
        },
        "id": "CSpXI_QA4A1r",
        "outputId": "7665e16f-463b-4843-c013-e5594dc7d446"
      },
      "source": [
        "model = LogisticRegression()\n",
        "model.fit(X_scaled_minmax_train,y_train)\n",
        "pred_train = model.predict(X_scaled_minmax_train)\n",
        "model.score(X_scaled_minmax_train, y_train)"
      ],
      "execution_count": null,
      "outputs": [
        {
          "output_type": "execute_result",
          "data": {
            "text/plain": [
              "0.97265625"
            ]
          },
          "metadata": {},
          "execution_count": 11
        }
      ]
    },
    {
      "cell_type": "code",
      "metadata": {
        "id": "A0wWPmbd4QpB"
      },
      "source": [
        "confusion_train = confusion_matrix(y_train, pred_train)"
      ],
      "execution_count": null,
      "outputs": []
    },
    {
      "cell_type": "code",
      "metadata": {
        "colab": {
          "base_uri": "https://localhost:8080/"
        },
        "id": "qvO5XZih4Yp3",
        "outputId": "8a092183-6e88-4424-b6b0-9eca506fd5e5"
      },
      "source": [
        "print(confusion_train)"
      ],
      "execution_count": null,
      "outputs": [
        {
          "output_type": "stream",
          "name": "stdout",
          "text": [
            "[[328   5]\n",
            " [  9 170]]\n"
          ]
        }
      ]
    },
    {
      "cell_type": "code",
      "metadata": {
        "id": "eEeA8oSy4aKv"
      },
      "source": [
        "from sklearn.metrics import classification_report\n",
        "report_train = classification_report(y_train, pred_train)"
      ],
      "execution_count": null,
      "outputs": []
    },
    {
      "cell_type": "code",
      "metadata": {
        "id": "RAbAjrom7rc0",
        "colab": {
          "base_uri": "https://localhost:8080/"
        },
        "outputId": "79f408c1-aef3-47c9-86f9-4c59145816fc"
      },
      "source": [
        "print(report_train)"
      ],
      "execution_count": null,
      "outputs": [
        {
          "output_type": "stream",
          "name": "stdout",
          "text": [
            "              precision    recall  f1-score   support\n",
            "\n",
            "           0       0.97      0.98      0.98       333\n",
            "           1       0.97      0.95      0.96       179\n",
            "\n",
            "    accuracy                           0.97       512\n",
            "   macro avg       0.97      0.97      0.97       512\n",
            "weighted avg       0.97      0.97      0.97       512\n",
            "\n"
          ]
        }
      ]
    },
    {
      "cell_type": "code",
      "metadata": {
        "id": "GijcnjXh7tmF"
      },
      "source": [
        "from sklearn.neighbors import KNeighborsClassifier\n"
      ],
      "execution_count": 1,
      "outputs": []
    },
    {
      "cell_type": "code",
      "metadata": {
        "colab": {
          "base_uri": "https://localhost:8080/"
        },
        "id": "tIlNXmI71Smb",
        "outputId": "0c0e4450-63be-4694-f6d7-3a02d7f39e08"
      },
      "source": [
        "model = KNeighborsClassifier()\n",
        "model.fit(X_scaled_minmax_train, y_train)\n",
        "pred_train = model.predict(X_scaled_minmax_train)\n",
        "model.score(X_scaled_minmax_train,y_train)"
      ],
      "execution_count": 8,
      "outputs": [
        {
          "output_type": "execute_result",
          "data": {
            "text/plain": [
              "0.984375"
            ]
          },
          "metadata": {},
          "execution_count": 8
        }
      ]
    },
    {
      "cell_type": "code",
      "metadata": {
        "colab": {
          "base_uri": "https://localhost:8080/"
        },
        "id": "kz2H7vhH1wme",
        "outputId": "d8c3d447-b9a4-4188-b30d-975a11959a5c"
      },
      "source": [
        "param_grid = {'n_neighbors':[1,3,5,7,9,11]}\n",
        "from sklearn.model_selection import GridSearchCV\n",
        "\n",
        "grid_search = GridSearchCV(KNeighborsClassifier(), param_grid, cv =5)\n",
        "grid_search.fit(X_scaled_minmax_train, y_train)"
      ],
      "execution_count": 10,
      "outputs": [
        {
          "output_type": "execute_result",
          "data": {
            "text/plain": [
              "GridSearchCV(cv=5, estimator=KNeighborsClassifier(),\n",
              "             param_grid={'n_neighbors': [1, 3, 5, 7, 9, 11]})"
            ]
          },
          "metadata": {},
          "execution_count": 10
        }
      ]
    },
    {
      "cell_type": "code",
      "metadata": {
        "colab": {
          "base_uri": "https://localhost:8080/"
        },
        "id": "zSbdVS-qExHy",
        "outputId": "62f313c5-29e4-411b-9740-920947c9bf89"
      },
      "source": [
        "grid_search.best_estimator_"
      ],
      "execution_count": 11,
      "outputs": [
        {
          "output_type": "execute_result",
          "data": {
            "text/plain": [
              "KNeighborsClassifier(n_neighbors=3)"
            ]
          },
          "metadata": {},
          "execution_count": 11
        }
      ]
    },
    {
      "cell_type": "code",
      "metadata": {
        "colab": {
          "base_uri": "https://localhost:8080/"
        },
        "id": "y4AqcnslE1e5",
        "outputId": "9e3385f0-ed39-4cf8-efb9-f082d4a9a2f7"
      },
      "source": [
        "grid_search.best_params_"
      ],
      "execution_count": 12,
      "outputs": [
        {
          "output_type": "execute_result",
          "data": {
            "text/plain": [
              "{'n_neighbors': 3}"
            ]
          },
          "metadata": {},
          "execution_count": 12
        }
      ]
    },
    {
      "cell_type": "code",
      "metadata": {
        "colab": {
          "base_uri": "https://localhost:8080/"
        },
        "id": "c5Z0zN14E288",
        "outputId": "67aab5b4-678d-46cd-f097-d737febdf193"
      },
      "source": [
        "grid_search.best_score_"
      ],
      "execution_count": 13,
      "outputs": [
        {
          "output_type": "execute_result",
          "data": {
            "text/plain": [
              "0.9823910146582906"
            ]
          },
          "metadata": {},
          "execution_count": 13
        }
      ]
    },
    {
      "cell_type": "code",
      "metadata": {
        "colab": {
          "base_uri": "https://localhost:8080/"
        },
        "id": "9RUT6rYUE6V2",
        "outputId": "f943c6ec-e7d7-4bee-c32e-455c0fd03dd9"
      },
      "source": [
        "from scipy.stats import randint\n",
        "randint(1,20)"
      ],
      "execution_count": 14,
      "outputs": [
        {
          "output_type": "execute_result",
          "data": {
            "text/plain": [
              "<scipy.stats._distn_infrastructure.rv_frozen at 0x7ff03a447690>"
            ]
          },
          "metadata": {},
          "execution_count": 14
        }
      ]
    },
    {
      "cell_type": "code",
      "metadata": {
        "colab": {
          "base_uri": "https://localhost:8080/"
        },
        "id": "_bzaYA5oFpt1",
        "outputId": "c76d5aee-271d-4187-c0d4-6dbe86f7f762"
      },
      "source": [
        "print(randint(low = 1,high = 20))"
      ],
      "execution_count": 16,
      "outputs": [
        {
          "output_type": "stream",
          "name": "stdout",
          "text": [
            "<scipy.stats._distn_infrastructure.rv_frozen object at 0x7ff03e6e1810>\n"
          ]
        }
      ]
    },
    {
      "cell_type": "code",
      "metadata": {
        "id": "kfaoaVqlFsEx"
      },
      "source": [
        "from sklearn.metrics import mean_squared_error"
      ],
      "execution_count": null,
      "outputs": []
    },
    {
      "cell_type": "code",
      "metadata": {
        "id": "AAxu_EjCHNas"
      },
      "source": [
        "# sklearn \n",
        "from sklearn.model_selection import train_test_split\n",
        "from sklearn.model_selection import GridSearchCV, RandomizedSearchCV\n",
        "from sklearn.preprocessing import MinMaxScaler, StandardScaler\n",
        "from sklearn.linear_model import LogisticRegression, LinearRegression\n",
        "from sklearn.metrics import confusion_matrix, classification_report\n",
        "from sklearn.neighbors import KNeighborsClassifier, KNeighborsRegressor\n",
        "from scipy.stats import randint\n",
        "from sklearn.neural_network import MLPClassifier\n",
        "from sklearn.svm import SVC,SVR\n",
        "from sklearn.metrics import mean_squared_error"
      ],
      "execution_count": 50,
      "outputs": []
    },
    {
      "cell_type": "code",
      "metadata": {
        "colab": {
          "base_uri": "https://localhost:8080/"
        },
        "id": "I4FDetbPJ71S",
        "outputId": "82922315-75bb-414d-f628-037965493d4e"
      },
      "source": [
        "model = MLPClassifier()\n",
        "model.fit(X_scaled_minmax_train,y_train)\n",
        "pred_train = model.predict(X_scaled_minmax_train)\n",
        "model.score(X_scaled_minmax_train,y_train)"
      ],
      "execution_count": 28,
      "outputs": [
        {
          "output_type": "execute_result",
          "data": {
            "text/plain": [
              "0.97265625"
            ]
          },
          "metadata": {},
          "execution_count": 28
        }
      ]
    },
    {
      "cell_type": "code",
      "metadata": {
        "id": "2F3C637dHNha"
      },
      "source": [
        "param_grid = {'hidden_layer_sizes':[10,30,50,100],'activation':['tanh','relu'],'solver':['sgd','adam']}"
      ],
      "execution_count": 34,
      "outputs": []
    },
    {
      "cell_type": "code",
      "metadata": {
        "colab": {
          "base_uri": "https://localhost:8080/"
        },
        "id": "xH_TZ1LLHNkc",
        "outputId": "7ad5145d-fc3d-488a-bb1e-71e343c75168"
      },
      "source": [
        "grid_search = GridSearchCV(MLPClassifier(),param_grid, cv =5)\n",
        "grid_search.fit(X_scaled_minmax_train, y_train)"
      ],
      "execution_count": 38,
      "outputs": [
        {
          "output_type": "execute_result",
          "data": {
            "text/plain": [
              "GridSearchCV(cv=5, estimator=MLPClassifier(),\n",
              "             param_grid={'activation': ['tanh', 'relu'],\n",
              "                         'hidden_layer_sizes': [10, 30, 50, 100],\n",
              "                         'solver': ['sgd', 'adam']})"
            ]
          },
          "metadata": {},
          "execution_count": 38
        }
      ]
    },
    {
      "cell_type": "code",
      "metadata": {
        "colab": {
          "base_uri": "https://localhost:8080/"
        },
        "id": "ECtx5MviHNss",
        "outputId": "9e8321d9-47f1-4f08-d60e-f5fee0fd914b"
      },
      "source": [
        "grid_search.best_estimator_"
      ],
      "execution_count": 39,
      "outputs": [
        {
          "output_type": "execute_result",
          "data": {
            "text/plain": [
              "MLPClassifier(activation='tanh', hidden_layer_sizes=50)"
            ]
          },
          "metadata": {},
          "execution_count": 39
        }
      ]
    },
    {
      "cell_type": "code",
      "metadata": {
        "colab": {
          "base_uri": "https://localhost:8080/"
        },
        "id": "5WYPSt0nHN09",
        "outputId": "e7fd4ae8-3030-4c55-ffb6-8bdc55791a6e"
      },
      "source": [
        "grid_search.best_score_"
      ],
      "execution_count": 40,
      "outputs": [
        {
          "output_type": "execute_result",
          "data": {
            "text/plain": [
              "0.9745478774033887"
            ]
          },
          "metadata": {},
          "execution_count": 40
        }
      ]
    },
    {
      "cell_type": "code",
      "metadata": {
        "colab": {
          "base_uri": "https://localhost:8080/"
        },
        "id": "oW0o6g3xHN4C",
        "outputId": "aefbdc4d-a0c6-4fb1-b996-8aa7786ae325"
      },
      "source": [
        "model = SVC()\n",
        "model.fit(X_scaled_minmax_train, y_train)\n",
        "pred_train = model.predict(X_scaled_minmax_train)\n",
        "model.score(X_scaled_minmax_train, y_train)"
      ],
      "execution_count": 42,
      "outputs": [
        {
          "output_type": "execute_result",
          "data": {
            "text/plain": [
              "0.984375"
            ]
          },
          "metadata": {},
          "execution_count": 42
        }
      ]
    },
    {
      "cell_type": "code",
      "metadata": {
        "id": "24RlF5geHN_e"
      },
      "source": [
        "param_grid = [{'kernel':['rbf'],'C':[0.001,0.01, 0.1, 1, 10, 100],'gamma':[0.001,0.01,0.1, 1, 10, 100]},{'kernel':['linear'],'C':[0.001, 0.01, 0.1, 1, 10, 100],'gamma':[0.001, 0.01, 0.1, 1, 10, 100]}]"
      ],
      "execution_count": 43,
      "outputs": []
    },
    {
      "cell_type": "code",
      "metadata": {
        "colab": {
          "base_uri": "https://localhost:8080/"
        },
        "id": "owO3S1Y2HODS",
        "outputId": "ae161746-c187-4b87-ee47-813eab53bcc1"
      },
      "source": [
        "grid_search = GridSearchCV(SVC(), param_grid, cv=5)\n",
        "grid_search.fit(X_scaled_minmax_train, y_train)"
      ],
      "execution_count": 44,
      "outputs": [
        {
          "output_type": "execute_result",
          "data": {
            "text/plain": [
              "GridSearchCV(cv=5, estimator=SVC(),\n",
              "             param_grid=[{'C': [0.001, 0.01, 0.1, 1, 10, 100],\n",
              "                          'gamma': [0.001, 0.01, 0.1, 1, 10, 100],\n",
              "                          'kernel': ['rbf']},\n",
              "                         {'C': [0.001, 0.01, 0.1, 1, 10, 100],\n",
              "                          'gamma': [0.001, 0.01, 0.1, 1, 10, 100],\n",
              "                          'kernel': ['linear']}])"
            ]
          },
          "metadata": {},
          "execution_count": 44
        }
      ]
    },
    {
      "cell_type": "code",
      "metadata": {
        "colab": {
          "base_uri": "https://localhost:8080/"
        },
        "id": "yEwzOZimHOFs",
        "outputId": "dffe56af-deee-4f9e-cf74-2a9d6bf4c47f"
      },
      "source": [
        "grid_search.best_estimator_"
      ],
      "execution_count": 45,
      "outputs": [
        {
          "output_type": "execute_result",
          "data": {
            "text/plain": [
              "SVC(C=100, gamma=0.01)"
            ]
          },
          "metadata": {},
          "execution_count": 45
        }
      ]
    },
    {
      "cell_type": "code",
      "metadata": {
        "colab": {
          "base_uri": "https://localhost:8080/"
        },
        "id": "HUWl2HR_ORl3",
        "outputId": "fb477adf-590e-4135-9e12-62b8bc199087"
      },
      "source": [
        "grid_search.best_score_"
      ],
      "execution_count": 46,
      "outputs": [
        {
          "output_type": "execute_result",
          "data": {
            "text/plain": [
              "0.9745669141442985"
            ]
          },
          "metadata": {},
          "execution_count": 46
        }
      ]
    },
    {
      "cell_type": "code",
      "metadata": {
        "colab": {
          "base_uri": "https://localhost:8080/"
        },
        "id": "_qpxzhOyOTT3",
        "outputId": "d7ed501f-a8c4-4175-8117-aeff7d565bd4"
      },
      "source": [
        "grid_search.best_params_"
      ],
      "execution_count": 47,
      "outputs": [
        {
          "output_type": "execute_result",
          "data": {
            "text/plain": [
              "{'C': 100, 'gamma': 0.01, 'kernel': 'rbf'}"
            ]
          },
          "metadata": {},
          "execution_count": 47
        }
      ]
    },
    {
      "cell_type": "code",
      "metadata": {
        "colab": {
          "base_uri": "https://localhost:8080/"
        },
        "id": "mlqZbUgnOXlM",
        "outputId": "8e0fc9ba-d174-47d9-82d4-ed6f7b4286cc"
      },
      "source": [
        "mean_squared_error(y_train,pred_train)"
      ],
      "execution_count": 52,
      "outputs": [
        {
          "output_type": "execute_result",
          "data": {
            "text/plain": [
              "0.015625"
            ]
          },
          "metadata": {},
          "execution_count": 52
        }
      ]
    },
    {
      "cell_type": "code",
      "metadata": {
        "id": "AnaVc-7CeMt8"
      },
      "source": [
        "model = SVR()\n",
        "model.fit(X_scaled_minmax_train,y_train)\n",
        "pred_train = model.predict(X_scaled_minmax_train)\n"
      ],
      "execution_count": 64,
      "outputs": []
    },
    {
      "cell_type": "code",
      "metadata": {
        "colab": {
          "base_uri": "https://localhost:8080/"
        },
        "id": "hDy_-1XOeq7i",
        "outputId": "8b32f61b-ec5b-4126-a611-9b2ae548ff45"
      },
      "source": [
        "np.sqrt(mean_squared_error(y_train,pred_train))"
      ],
      "execution_count": 65,
      "outputs": [
        {
          "output_type": "execute_result",
          "data": {
            "text/plain": [
              "96638.88361264937"
            ]
          },
          "metadata": {},
          "execution_count": 65
        }
      ]
    },
    {
      "cell_type": "code",
      "metadata": {
        "id": "GMc2fGO6e4yu"
      },
      "source": [
        "y_train"
      ],
      "execution_count": null,
      "outputs": []
    },
    {
      "cell_type": "code",
      "metadata": {
        "id": "8jqin125fLfM"
      },
      "source": [
        "data = pd.read_csv('house_price.csv',encoding='cp949')"
      ],
      "execution_count": 57,
      "outputs": []
    },
    {
      "cell_type": "code",
      "metadata": {
        "colab": {
          "base_uri": "https://localhost:8080/",
          "height": 423
        },
        "id": "t9pCjNA-i5X8",
        "outputId": "6c4cfb81-0902-4750-f4e0-036be88d3a0f"
      },
      "source": [
        "data"
      ],
      "execution_count": 58,
      "outputs": [
        {
          "output_type": "execute_result",
          "data": {
            "text/html": [
              "<div>\n",
              "<style scoped>\n",
              "    .dataframe tbody tr th:only-of-type {\n",
              "        vertical-align: middle;\n",
              "    }\n",
              "\n",
              "    .dataframe tbody tr th {\n",
              "        vertical-align: top;\n",
              "    }\n",
              "\n",
              "    .dataframe thead th {\n",
              "        text-align: right;\n",
              "    }\n",
              "</style>\n",
              "<table border=\"1\" class=\"dataframe\">\n",
              "  <thead>\n",
              "    <tr style=\"text-align: right;\">\n",
              "      <th></th>\n",
              "      <th>housing_age</th>\n",
              "      <th>income</th>\n",
              "      <th>bedrooms</th>\n",
              "      <th>households</th>\n",
              "      <th>rooms</th>\n",
              "      <th>house_value</th>\n",
              "    </tr>\n",
              "  </thead>\n",
              "  <tbody>\n",
              "    <tr>\n",
              "      <th>0</th>\n",
              "      <td>23</td>\n",
              "      <td>6.7770</td>\n",
              "      <td>0.141112</td>\n",
              "      <td>2.442244</td>\n",
              "      <td>8.103960</td>\n",
              "      <td>500000</td>\n",
              "    </tr>\n",
              "    <tr>\n",
              "      <th>1</th>\n",
              "      <td>49</td>\n",
              "      <td>6.0199</td>\n",
              "      <td>0.160984</td>\n",
              "      <td>2.726688</td>\n",
              "      <td>5.752412</td>\n",
              "      <td>500000</td>\n",
              "    </tr>\n",
              "    <tr>\n",
              "      <th>2</th>\n",
              "      <td>35</td>\n",
              "      <td>5.1155</td>\n",
              "      <td>0.249061</td>\n",
              "      <td>1.902676</td>\n",
              "      <td>3.888078</td>\n",
              "      <td>500000</td>\n",
              "    </tr>\n",
              "    <tr>\n",
              "      <th>3</th>\n",
              "      <td>32</td>\n",
              "      <td>4.7109</td>\n",
              "      <td>0.231383</td>\n",
              "      <td>1.913669</td>\n",
              "      <td>4.508393</td>\n",
              "      <td>500000</td>\n",
              "    </tr>\n",
              "    <tr>\n",
              "      <th>4</th>\n",
              "      <td>21</td>\n",
              "      <td>4.5625</td>\n",
              "      <td>0.255583</td>\n",
              "      <td>3.092664</td>\n",
              "      <td>4.667954</td>\n",
              "      <td>500000</td>\n",
              "    </tr>\n",
              "    <tr>\n",
              "      <th>...</th>\n",
              "      <td>...</td>\n",
              "      <td>...</td>\n",
              "      <td>...</td>\n",
              "      <td>...</td>\n",
              "      <td>...</td>\n",
              "      <td>...</td>\n",
              "    </tr>\n",
              "    <tr>\n",
              "      <th>17684</th>\n",
              "      <td>34</td>\n",
              "      <td>2.3013</td>\n",
              "      <td>0.214583</td>\n",
              "      <td>2.748299</td>\n",
              "      <td>4.897959</td>\n",
              "      <td>26600</td>\n",
              "    </tr>\n",
              "    <tr>\n",
              "      <th>17685</th>\n",
              "      <td>33</td>\n",
              "      <td>2.6750</td>\n",
              "      <td>0.246622</td>\n",
              "      <td>3.428571</td>\n",
              "      <td>4.698413</td>\n",
              "      <td>22500</td>\n",
              "    </tr>\n",
              "    <tr>\n",
              "      <th>17686</th>\n",
              "      <td>39</td>\n",
              "      <td>2.3667</td>\n",
              "      <td>0.340771</td>\n",
              "      <td>1.876812</td>\n",
              "      <td>3.572464</td>\n",
              "      <td>17500</td>\n",
              "    </tr>\n",
              "    <tr>\n",
              "      <th>17687</th>\n",
              "      <td>19</td>\n",
              "      <td>2.1000</td>\n",
              "      <td>0.386107</td>\n",
              "      <td>2.987805</td>\n",
              "      <td>3.774390</td>\n",
              "      <td>14999</td>\n",
              "    </tr>\n",
              "    <tr>\n",
              "      <th>17688</th>\n",
              "      <td>16</td>\n",
              "      <td>1.6607</td>\n",
              "      <td>0.286275</td>\n",
              "      <td>2.236842</td>\n",
              "      <td>6.710526</td>\n",
              "      <td>14999</td>\n",
              "    </tr>\n",
              "  </tbody>\n",
              "</table>\n",
              "<p>17689 rows × 6 columns</p>\n",
              "</div>"
            ],
            "text/plain": [
              "       housing_age  income  bedrooms  households     rooms  house_value\n",
              "0               23  6.7770  0.141112    2.442244  8.103960       500000\n",
              "1               49  6.0199  0.160984    2.726688  5.752412       500000\n",
              "2               35  5.1155  0.249061    1.902676  3.888078       500000\n",
              "3               32  4.7109  0.231383    1.913669  4.508393       500000\n",
              "4               21  4.5625  0.255583    3.092664  4.667954       500000\n",
              "...            ...     ...       ...         ...       ...          ...\n",
              "17684           34  2.3013  0.214583    2.748299  4.897959        26600\n",
              "17685           33  2.6750  0.246622    3.428571  4.698413        22500\n",
              "17686           39  2.3667  0.340771    1.876812  3.572464        17500\n",
              "17687           19  2.1000  0.386107    2.987805  3.774390        14999\n",
              "17688           16  1.6607  0.286275    2.236842  6.710526        14999\n",
              "\n",
              "[17689 rows x 6 columns]"
            ]
          },
          "metadata": {},
          "execution_count": 58
        }
      ]
    },
    {
      "cell_type": "code",
      "metadata": {
        "id": "GmZluXYmi6V_"
      },
      "source": [
        "X = data[data.columns[:5]]\n",
        "y = data[['house_value']]"
      ],
      "execution_count": 61,
      "outputs": []
    },
    {
      "cell_type": "code",
      "metadata": {
        "id": "p9BV7048jLOp"
      },
      "source": [
        "X_train, X_test, y_train, y_test = train_test_split(X,y, random_state =42)\n",
        "scaler = MinMaxScaler()\n",
        "scaler.fit(X_train)\n",
        "X_scaled_train = scaler.transform(X_train)\n",
        "X_scaled_test = scaler.transform(X_test)\n"
      ],
      "execution_count": 63,
      "outputs": []
    },
    {
      "cell_type": "code",
      "metadata": {
        "colab": {
          "base_uri": "https://localhost:8080/"
        },
        "id": "vnCdVTn2jYvB",
        "outputId": "050e8962-acfe-4959-8006-1062c55ed80c"
      },
      "source": [
        "model = SVR(kernel='poly')\n",
        "model.fit(X_scaled_minmax_train,y_train)\n",
        "pred_train = model.predict(X_scaled_minmax_train)\n",
        "model.score(X_scaled_minmax_train,y_train)"
      ],
      "execution_count": 68,
      "outputs": [
        {
          "output_type": "execute_result",
          "data": {
            "text/plain": [
              "0.4411532001585847"
            ]
          },
          "metadata": {},
          "execution_count": 68
        }
      ]
    },
    {
      "cell_type": "code",
      "metadata": {
        "colab": {
          "base_uri": "https://localhost:8080/"
        },
        "id": "QIn-QrFyj2mJ",
        "outputId": "5985e9b8-e314-41fe-afd4-be32cba6b19d"
      },
      "source": [
        "np.sqrt(mean_squared_error(y_train,pred_train))"
      ],
      "execution_count": 69,
      "outputs": [
        {
          "output_type": "execute_result",
          "data": {
            "text/plain": [
              "71350.56690936947"
            ]
          },
          "metadata": {},
          "execution_count": 69
        }
      ]
    },
    {
      "cell_type": "code",
      "metadata": {
        "id": "8UHlao0xlCcf"
      },
      "source": [
        "from sklearn.tree import DecisionTreeClassifier\n"
      ],
      "execution_count": 74,
      "outputs": []
    },
    {
      "cell_type": "code",
      "metadata": {
        "id": "Rs9q62N0m42U"
      },
      "source": [
        "data = pd.read_csv('breast-cancer-wisconsin.csv',encoding = 'cp949')\n",
        "X = data[data.columns[1:10]]\n",
        "y = data[['Class']]\n",
        "X_train, X_test, y_train, y_test = train_test_split(X,y, random_state =42)\n",
        "scaler = MinMaxScaler()\n",
        "scaler.fit(X_train)\n",
        "X_scaled_train = scaler.transform(X_train)\n",
        "X_scaled_test = scaler.transform(X_test)"
      ],
      "execution_count": 71,
      "outputs": []
    },
    {
      "cell_type": "code",
      "metadata": {
        "colab": {
          "base_uri": "https://localhost:8080/"
        },
        "id": "8rB8pQXwmvID",
        "outputId": "8f88ce69-a0a5-400f-94e1-f2d8f297b610"
      },
      "source": [
        "model = DecisionTreeClassifier()\n",
        "model.fit(X_scaled_train,y_train)\n",
        "pred_train = model.predict(X_scaled_train)\n",
        "model.score(X_scaled_train,y_train)"
      ],
      "execution_count": 75,
      "outputs": [
        {
          "output_type": "execute_result",
          "data": {
            "text/plain": [
              "1.0"
            ]
          },
          "metadata": {},
          "execution_count": 75
        }
      ]
    },
    {
      "cell_type": "code",
      "metadata": {
        "colab": {
          "base_uri": "https://localhost:8080/"
        },
        "id": "JTZ-j7O-nJB7",
        "outputId": "b927f1cd-5608-43c8-b870-5236ee9f992c"
      },
      "source": [
        "pred_test = model.predict(X_scaled_test)\n",
        "model.score(X_scaled_test,y_test)"
      ],
      "execution_count": 76,
      "outputs": [
        {
          "output_type": "execute_result",
          "data": {
            "text/plain": [
              "0.9473684210526315"
            ]
          },
          "metadata": {},
          "execution_count": 76
        }
      ]
    },
    {
      "cell_type": "code",
      "metadata": {
        "id": "cnviXbginWp_"
      },
      "source": [
        "cm  = confusion_matrix(y_test, pred_test)"
      ],
      "execution_count": 77,
      "outputs": []
    },
    {
      "cell_type": "code",
      "metadata": {
        "colab": {
          "base_uri": "https://localhost:8080/"
        },
        "id": "4qJ0UyUwnedb",
        "outputId": "c00cc5f3-4a9a-44af-ac6b-b0d066749e70"
      },
      "source": [
        "print(cm)"
      ],
      "execution_count": 78,
      "outputs": [
        {
          "output_type": "stream",
          "name": "stdout",
          "text": [
            "[[101   2]\n",
            " [  7  61]]\n"
          ]
        }
      ]
    },
    {
      "cell_type": "code",
      "metadata": {
        "id": "9Q2MO13Mnf-W"
      },
      "source": [
        "param_grid = {'max_depth':range(2,20,2),'min_samples_leaf':range(1,50,2)}"
      ],
      "execution_count": 79,
      "outputs": []
    },
    {
      "cell_type": "code",
      "metadata": {
        "colab": {
          "base_uri": "https://localhost:8080/"
        },
        "id": "N42a-U2An7ca",
        "outputId": "4665caf2-d5f3-4d88-b569-decb2aa06182"
      },
      "source": [
        "gs = GridSearchCV(DecisionTreeClassifier(), param_grid, cv=5)\n",
        "gs.fit(X_scaled_train, y_train)"
      ],
      "execution_count": 81,
      "outputs": [
        {
          "output_type": "execute_result",
          "data": {
            "text/plain": [
              "GridSearchCV(cv=5, estimator=DecisionTreeClassifier(),\n",
              "             param_grid={'max_depth': range(2, 20, 2),\n",
              "                         'min_samples_leaf': range(1, 50, 2)})"
            ]
          },
          "metadata": {},
          "execution_count": 81
        }
      ]
    },
    {
      "cell_type": "code",
      "metadata": {
        "colab": {
          "base_uri": "https://localhost:8080/"
        },
        "id": "l7jqXbTdoGbm",
        "outputId": "3770550a-ae29-42d6-e844-47f1a7384b05"
      },
      "source": [
        "gs.best_params_"
      ],
      "execution_count": 82,
      "outputs": [
        {
          "output_type": "execute_result",
          "data": {
            "text/plain": [
              "{'max_depth': 12, 'min_samples_leaf': 5}"
            ]
          },
          "metadata": {},
          "execution_count": 82
        }
      ]
    },
    {
      "cell_type": "code",
      "metadata": {
        "colab": {
          "base_uri": "https://localhost:8080/"
        },
        "id": "gm1I3s_hoLKJ",
        "outputId": "ff79d2d2-b47e-4d53-fe90-85aa39bbba7a"
      },
      "source": [
        "gs.best_estimator_"
      ],
      "execution_count": 83,
      "outputs": [
        {
          "output_type": "execute_result",
          "data": {
            "text/plain": [
              "DecisionTreeClassifier(max_depth=12, min_samples_leaf=5)"
            ]
          },
          "metadata": {},
          "execution_count": 83
        }
      ]
    },
    {
      "cell_type": "code",
      "metadata": {
        "colab": {
          "base_uri": "https://localhost:8080/"
        },
        "id": "KwckyDMNoMyA",
        "outputId": "cd5ebf97-bb38-41c6-e099-1530090b7987"
      },
      "source": [
        "gs.best_score_"
      ],
      "execution_count": 84,
      "outputs": [
        {
          "output_type": "execute_result",
          "data": {
            "text/plain": [
              "0.9667808871121265"
            ]
          },
          "metadata": {},
          "execution_count": 84
        }
      ]
    },
    {
      "cell_type": "code",
      "metadata": {
        "id": "jz9FFkZ1oO9C"
      },
      "source": [
        ""
      ],
      "execution_count": null,
      "outputs": []
    }
  ]
}
{
  "nbformat": 4,
  "nbformat_minor": 0,
  "metadata": {
    "colab": {
      "name": "빅분기_실기.ipynb",
      "provenance": [],
      "authorship_tag": "ABX9TyM5z9XT2yGte6b2qpxoJrOR",
      "include_colab_link": true
    },
    "kernelspec": {
      "name": "python3",
      "display_name": "Python 3"
    },
    "language_info": {
      "name": "python"
    }
  },
  "cells": [
    {
      "cell_type": "markdown",
      "metadata": {
        "id": "view-in-github",
        "colab_type": "text"
      },
      "source": [
        "<a href=\"https://colab.research.google.com/github/LEECHANGDAEE/b_data_certificate/blob/main/%EB%B9%85%EB%B6%84%EA%B8%B0_%EC%8B%A4%EA%B8%B0.ipynb\" target=\"_parent\"><img src=\"https://colab.research.google.com/assets/colab-badge.svg\" alt=\"Open In Colab\"/></a>"
      ]
    },
    {
      "cell_type": "code",
      "metadata": {
        "id": "E5HZdtBGaTnc"
      },
      "source": [
        "import pandas as pd\n",
        "import numpy as np\n"
      ],
      "execution_count": 1,
      "outputs": []
    },
    {
      "cell_type": "code",
      "metadata": {
        "id": "Q0ZIpgiAaYN-"
      },
      "source": [
        "data = pd.read_csv('house_raw.csv', encoding= 'cp949')"
      ],
      "execution_count": 5,
      "outputs": []
    },
    {
      "cell_type": "code",
      "metadata": {
        "colab": {
          "base_uri": "https://localhost:8080/",
          "height": 300
        },
        "id": "wYp13eZbaiV1",
        "outputId": "86d00ba9-9fc5-4dcf-c8b9-bbaf5834bf25"
      },
      "source": [
        "data.describe()"
      ],
      "execution_count": 7,
      "outputs": [
        {
          "output_type": "execute_result",
          "data": {
            "text/html": [
              "<div>\n",
              "<style scoped>\n",
              "    .dataframe tbody tr th:only-of-type {\n",
              "        vertical-align: middle;\n",
              "    }\n",
              "\n",
              "    .dataframe tbody tr th {\n",
              "        vertical-align: top;\n",
              "    }\n",
              "\n",
              "    .dataframe thead th {\n",
              "        text-align: right;\n",
              "    }\n",
              "</style>\n",
              "<table border=\"1\" class=\"dataframe\">\n",
              "  <thead>\n",
              "    <tr style=\"text-align: right;\">\n",
              "      <th></th>\n",
              "      <th>housing_age</th>\n",
              "      <th>income</th>\n",
              "      <th>bedrooms</th>\n",
              "      <th>households</th>\n",
              "      <th>rooms</th>\n",
              "      <th>house_value</th>\n",
              "    </tr>\n",
              "  </thead>\n",
              "  <tbody>\n",
              "    <tr>\n",
              "      <th>count</th>\n",
              "      <td>17914.000000</td>\n",
              "      <td>17914.000000</td>\n",
              "      <td>17914.000000</td>\n",
              "      <td>17914.000000</td>\n",
              "      <td>17914.000000</td>\n",
              "      <td>17914.000000</td>\n",
              "    </tr>\n",
              "    <tr>\n",
              "      <th>mean</th>\n",
              "      <td>27.307022</td>\n",
              "      <td>3.664086</td>\n",
              "      <td>0.214309</td>\n",
              "      <td>3.007667</td>\n",
              "      <td>5.370672</td>\n",
              "      <td>188692.620130</td>\n",
              "    </tr>\n",
              "    <tr>\n",
              "      <th>std</th>\n",
              "      <td>11.297204</td>\n",
              "      <td>1.526694</td>\n",
              "      <td>0.055251</td>\n",
              "      <td>4.579534</td>\n",
              "      <td>2.332776</td>\n",
              "      <td>95318.621139</td>\n",
              "    </tr>\n",
              "    <tr>\n",
              "      <th>min</th>\n",
              "      <td>1.000000</td>\n",
              "      <td>0.499900</td>\n",
              "      <td>0.100000</td>\n",
              "      <td>0.692308</td>\n",
              "      <td>0.846154</td>\n",
              "      <td>14999.000000</td>\n",
              "    </tr>\n",
              "    <tr>\n",
              "      <th>25%</th>\n",
              "      <td>18.000000</td>\n",
              "      <td>2.526125</td>\n",
              "      <td>0.177544</td>\n",
              "      <td>2.467031</td>\n",
              "      <td>4.426115</td>\n",
              "      <td>114325.000000</td>\n",
              "    </tr>\n",
              "    <tr>\n",
              "      <th>50%</th>\n",
              "      <td>28.000000</td>\n",
              "      <td>3.447800</td>\n",
              "      <td>0.204256</td>\n",
              "      <td>2.853499</td>\n",
              "      <td>5.199222</td>\n",
              "      <td>170800.000000</td>\n",
              "    </tr>\n",
              "    <tr>\n",
              "      <th>75%</th>\n",
              "      <td>36.000000</td>\n",
              "      <td>4.583300</td>\n",
              "      <td>0.240476</td>\n",
              "      <td>3.318866</td>\n",
              "      <td>5.970848</td>\n",
              "      <td>242100.000000</td>\n",
              "    </tr>\n",
              "    <tr>\n",
              "      <th>max</th>\n",
              "      <td>51.000000</td>\n",
              "      <td>9.905500</td>\n",
              "      <td>1.000000</td>\n",
              "      <td>599.714286</td>\n",
              "      <td>132.533333</td>\n",
              "      <td>500000.000000</td>\n",
              "    </tr>\n",
              "  </tbody>\n",
              "</table>\n",
              "</div>"
            ],
            "text/plain": [
              "        housing_age        income  ...         rooms    house_value\n",
              "count  17914.000000  17914.000000  ...  17914.000000   17914.000000\n",
              "mean      27.307022      3.664086  ...      5.370672  188692.620130\n",
              "std       11.297204      1.526694  ...      2.332776   95318.621139\n",
              "min        1.000000      0.499900  ...      0.846154   14999.000000\n",
              "25%       18.000000      2.526125  ...      4.426115  114325.000000\n",
              "50%       28.000000      3.447800  ...      5.199222  170800.000000\n",
              "75%       36.000000      4.583300  ...      5.970848  242100.000000\n",
              "max       51.000000      9.905500  ...    132.533333  500000.000000\n",
              "\n",
              "[8 rows x 6 columns]"
            ]
          },
          "metadata": {},
          "execution_count": 7
        }
      ]
    },
    {
      "cell_type": "code",
      "metadata": {
        "colab": {
          "base_uri": "https://localhost:8080/",
          "height": 860
        },
        "id": "27hrQCf8b4wm",
        "outputId": "8d87fd42-bdac-4138-8993-47836a866693"
      },
      "source": [
        "data.hist(bins=50, figsize=(20,15))"
      ],
      "execution_count": 8,
      "outputs": [
        {
          "output_type": "execute_result",
          "data": {
            "text/plain": [
              "array([[<matplotlib.axes._subplots.AxesSubplot object at 0x7f8f8666fb10>,\n",
              "        <matplotlib.axes._subplots.AxesSubplot object at 0x7f8f88b83f50>],\n",
              "       [<matplotlib.axes._subplots.AxesSubplot object at 0x7f8f8658a350>,\n",
              "        <matplotlib.axes._subplots.AxesSubplot object at 0x7f8f8653e950>],\n",
              "       [<matplotlib.axes._subplots.AxesSubplot object at 0x7f8f86577f50>,\n",
              "        <matplotlib.axes._subplots.AxesSubplot object at 0x7f8f86537590>]],\n",
              "      dtype=object)"
            ]
          },
          "metadata": {},
          "execution_count": 8
        },
        {
          "output_type": "display_data",
          "data": {
            "image/png": "[encoded data removed]",
            "text/plain": [
              "<Figure size 1440x1080 with 6 Axes>"
            ]
          },
          "metadata": {
            "needs_background": "light"
          }
        }
      ]
    },
    {
      "cell_type": "code",
      "metadata": {
        "colab": {
          "base_uri": "https://localhost:8080/"
        },
        "id": "CoB9HM40bzNP",
        "outputId": "d6a88cdd-a2aa-48b0-eeb1-24b2bf59a729"
      },
      "source": [
        "data.info()"
      ],
      "execution_count": 9,
      "outputs": [
        {
          "output_type": "stream",
          "name": "stdout",
          "text": [
            "<class 'pandas.core.frame.DataFrame'>\n",
            "RangeIndex: 17914 entries, 0 to 17913\n",
            "Data columns (total 6 columns):\n",
            " #   Column       Non-Null Count  Dtype  \n",
            "---  ------       --------------  -----  \n",
            " 0   housing_age  17914 non-null  int64  \n",
            " 1   income       17914 non-null  float64\n",
            " 2   bedrooms     17914 non-null  float64\n",
            " 3   households   17914 non-null  float64\n",
            " 4   rooms        17914 non-null  float64\n",
            " 5   house_value  17914 non-null  int64  \n",
            "dtypes: float64(4), int64(2)\n",
            "memory usage: 839.8 KB\n"
          ]
        }
      ]
    },
    {
      "cell_type": "code",
      "metadata": {
        "id": "LkJpYLcbb_mN"
      },
      "source": [
        "X = data[data.columns[0:5]]\n",
        "y = data[[\"house_value\"]]"
      ],
      "execution_count": 19,
      "outputs": []
    },
    {
      "cell_type": "code",
      "metadata": {
        "id": "w6j6FmihcMF9"
      },
      "source": [
        "from sklearn.model_selection import train_test_split"
      ],
      "execution_count": 20,
      "outputs": []
    },
    {
      "cell_type": "code",
      "metadata": {
        "id": "ElZc3tkjcSrd"
      },
      "source": [
        "X_train, X_test, y_train, y_test = train_test_split(X,y, random_state = 42)"
      ],
      "execution_count": 21,
      "outputs": []
    },
    {
      "cell_type": "code",
      "metadata": {
        "id": "fvKZ0V2rcYep"
      },
      "source": [
        "from sklearn.preprocessing import MinMaxScaler\n",
        "scaler_minmax = MinMaxScaler()\n",
        "scaler_minmax.fit(X_train)\n",
        "X_scaled_minmax_train = scaler_minmax.transform(X_train)\n",
        "X_scaled_minmax_test = scaler_minmax.transform(X_test)\n",
        "\n",
        "\n"
      ],
      "execution_count": 22,
      "outputs": []
    },
    {
      "cell_type": "code",
      "metadata": {
        "colab": {
          "base_uri": "https://localhost:8080/"
        },
        "id": "bIrQEOYQc4O8",
        "outputId": "b794ec3a-3642-4c2d-f1a7-bbdd6afa2d62"
      },
      "source": [
        "from sklearn.linear_model import LinearRegression\n",
        "model = LinearRegression()\n",
        "model.fit(X_scaled_minmax_train,y_train)\n"
      ],
      "execution_count": 23,
      "outputs": [
        {
          "output_type": "execute_result",
          "data": {
            "text/plain": [
              "LinearRegression()"
            ]
          },
          "metadata": {},
          "execution_count": 23
        }
      ]
    },
    {
      "cell_type": "code",
      "metadata": {
        "colab": {
          "base_uri": "https://localhost:8080/"
        },
        "id": "iLeDYB2ZdM0t",
        "outputId": "276f3b57-9570-4ceb-c5b9-5a1797593fc6"
      },
      "source": [
        "pred_train = model.predict(X_scaled_minmax_train)\n",
        "model.score(X_scaled_minmax_train,y_train)"
      ],
      "execution_count": 24,
      "outputs": [
        {
          "output_type": "execute_result",
          "data": {
            "text/plain": [
              "0.5706921210926263"
            ]
          },
          "metadata": {},
          "execution_count": 24
        }
      ]
    },
    {
      "cell_type": "code",
      "metadata": {
        "colab": {
          "base_uri": "https://localhost:8080/"
        },
        "id": "2-qef592ewoB",
        "outputId": "1b0fb2d3-57a8-4881-f0a6-3653595c293a"
      },
      "source": [
        "pred_test = model.predict(X_scaled_minmax_test)\n",
        "model.score(X_scaled_minmax_test,y_test)"
      ],
      "execution_count": 25,
      "outputs": [
        {
          "output_type": "execute_result",
          "data": {
            "text/plain": [
              "0.5826083517811865"
            ]
          },
          "metadata": {},
          "execution_count": 25
        }
      ]
    },
    {
      "cell_type": "code",
      "metadata": {
        "id": "aaED5-JldZnj"
      },
      "source": [
        "data = data[(data['bedrooms']<0.5) & (data['households']<7)&(data['rooms']<12)]"
      ],
      "execution_count": 18,
      "outputs": []
    },
    {
      "cell_type": "code",
      "metadata": {
        "id": "m64yTgvTeslP"
      },
      "source": [
        "data = pd.read_csv('breast-cancer-wisconsin.csv',encoding='cp949')"
      ],
      "execution_count": 26,
      "outputs": []
    },
    {
      "cell_type": "code",
      "metadata": {
        "colab": {
          "base_uri": "https://localhost:8080/",
          "height": 226
        },
        "id": "LJdMaCimhvWV",
        "outputId": "ff9b8217-a01c-4126-db10-c2ace8199437"
      },
      "source": [
        "data.head()"
      ],
      "execution_count": 27,
      "outputs": [
        {
          "output_type": "execute_result",
          "data": {
            "text/html": [
              "<div>\n",
              "<style scoped>\n",
              "    .dataframe tbody tr th:only-of-type {\n",
              "        vertical-align: middle;\n",
              "    }\n",
              "\n",
              "    .dataframe tbody tr th {\n",
              "        vertical-align: top;\n",
              "    }\n",
              "\n",
              "    .dataframe thead th {\n",
              "        text-align: right;\n",
              "    }\n",
              "</style>\n",
              "<table border=\"1\" class=\"dataframe\">\n",
              "  <thead>\n",
              "    <tr style=\"text-align: right;\">\n",
              "      <th></th>\n",
              "      <th>code</th>\n",
              "      <th>Clump_Thickness</th>\n",
              "      <th>Cell_Size</th>\n",
              "      <th>Cell_Shape</th>\n",
              "      <th>Marginal_Adhesion</th>\n",
              "      <th>Single_Epithelial_Cell_Size</th>\n",
              "      <th>Bare_Nuclei</th>\n",
              "      <th>Bland_Chromatin</th>\n",
              "      <th>Normal_Nucleoli</th>\n",
              "      <th>Mitoses</th>\n",
              "      <th>Class</th>\n",
              "    </tr>\n",
              "  </thead>\n",
              "  <tbody>\n",
              "    <tr>\n",
              "      <th>0</th>\n",
              "      <td>1000025</td>\n",
              "      <td>5</td>\n",
              "      <td>1</td>\n",
              "      <td>1</td>\n",
              "      <td>1</td>\n",
              "      <td>2</td>\n",
              "      <td>1</td>\n",
              "      <td>3</td>\n",
              "      <td>1</td>\n",
              "      <td>1</td>\n",
              "      <td>0</td>\n",
              "    </tr>\n",
              "    <tr>\n",
              "      <th>1</th>\n",
              "      <td>1002945</td>\n",
              "      <td>5</td>\n",
              "      <td>4</td>\n",
              "      <td>4</td>\n",
              "      <td>5</td>\n",
              "      <td>7</td>\n",
              "      <td>10</td>\n",
              "      <td>3</td>\n",
              "      <td>2</td>\n",
              "      <td>1</td>\n",
              "      <td>0</td>\n",
              "    </tr>\n",
              "    <tr>\n",
              "      <th>2</th>\n",
              "      <td>1015425</td>\n",
              "      <td>3</td>\n",
              "      <td>1</td>\n",
              "      <td>1</td>\n",
              "      <td>1</td>\n",
              "      <td>2</td>\n",
              "      <td>2</td>\n",
              "      <td>3</td>\n",
              "      <td>1</td>\n",
              "      <td>1</td>\n",
              "      <td>0</td>\n",
              "    </tr>\n",
              "    <tr>\n",
              "      <th>3</th>\n",
              "      <td>1016277</td>\n",
              "      <td>6</td>\n",
              "      <td>8</td>\n",
              "      <td>8</td>\n",
              "      <td>1</td>\n",
              "      <td>3</td>\n",
              "      <td>4</td>\n",
              "      <td>3</td>\n",
              "      <td>7</td>\n",
              "      <td>1</td>\n",
              "      <td>0</td>\n",
              "    </tr>\n",
              "    <tr>\n",
              "      <th>4</th>\n",
              "      <td>1017023</td>\n",
              "      <td>4</td>\n",
              "      <td>1</td>\n",
              "      <td>1</td>\n",
              "      <td>3</td>\n",
              "      <td>2</td>\n",
              "      <td>1</td>\n",
              "      <td>3</td>\n",
              "      <td>1</td>\n",
              "      <td>1</td>\n",
              "      <td>0</td>\n",
              "    </tr>\n",
              "  </tbody>\n",
              "</table>\n",
              "</div>"
            ],
            "text/plain": [
              "      code  Clump_Thickness  Cell_Size  ...  Normal_Nucleoli  Mitoses  Class\n",
              "0  1000025                5          1  ...                1        1      0\n",
              "1  1002945                5          4  ...                2        1      0\n",
              "2  1015425                3          1  ...                1        1      0\n",
              "3  1016277                6          8  ...                7        1      0\n",
              "4  1017023                4          1  ...                1        1      0\n",
              "\n",
              "[5 rows x 11 columns]"
            ]
          },
          "metadata": {},
          "execution_count": 27
        }
      ]
    },
    {
      "cell_type": "code",
      "metadata": {
        "colab": {
          "base_uri": "https://localhost:8080/"
        },
        "id": "VlTh-2ebhw3W",
        "outputId": "293be6fb-acdb-4a4d-e01d-468a03ceb842"
      },
      "source": [
        "data['Class'].value_counts(sort=False)"
      ],
      "execution_count": 28,
      "outputs": [
        {
          "output_type": "execute_result",
          "data": {
            "text/plain": [
              "0    444\n",
              "1    239\n",
              "Name: Class, dtype: int64"
            ]
          },
          "metadata": {},
          "execution_count": 28
        }
      ]
    },
    {
      "cell_type": "code",
      "metadata": {
        "colab": {
          "base_uri": "https://localhost:8080/"
        },
        "id": "D0pFCWIch18P",
        "outputId": "18904046-ec56-41be-ff10-1c7ef32a79ff"
      },
      "source": [
        "print(data.shape)"
      ],
      "execution_count": 29,
      "outputs": [
        {
          "output_type": "stream",
          "name": "stdout",
          "text": [
            "(683, 11)\n"
          ]
        }
      ]
    },
    {
      "cell_type": "code",
      "metadata": {
        "id": "jFum8h-MiLyI"
      },
      "source": [
        "X1 = X2"
      ],
      "execution_count": 33,
      "outputs": []
    },
    {
      "cell_type": "code",
      "metadata": {
        "id": "Go0ycugch3x_"
      },
      "source": [
        "X2 = data[data.columns[1:10]]"
      ],
      "execution_count": 34,
      "outputs": []
    },
    {
      "cell_type": "code",
      "metadata": {
        "id": "wMwNhRByiFEw"
      },
      "source": [
        "X3 = X2"
      ],
      "execution_count": 35,
      "outputs": []
    },
    {
      "cell_type": "code",
      "metadata": {
        "id": "LJAwdMf4iFxj"
      },
      "source": [
        "y = data[['Class']]"
      ],
      "execution_count": 36,
      "outputs": []
    },
    {
      "cell_type": "code",
      "metadata": {
        "colab": {
          "base_uri": "https://localhost:8080/"
        },
        "id": "A1TcnHS0iVqW",
        "outputId": "4c1a844b-8aca-4597-d1b6-040b1feb73b0"
      },
      "source": [
        "print(y.shape)"
      ],
      "execution_count": 37,
      "outputs": [
        {
          "output_type": "stream",
          "name": "stdout",
          "text": [
            "(683, 1)\n"
          ]
        }
      ]
    },
    {
      "cell_type": "code",
      "metadata": {
        "id": "ki2znrtTiW_d"
      },
      "source": [
        "from sklearn.model_selection import train_test_split\n"
      ],
      "execution_count": 38,
      "outputs": []
    },
    {
      "cell_type": "code",
      "metadata": {
        "id": "QYHh-o4KidNd"
      },
      "source": [
        "X_train, X_test, y_train, y_test = train_test_split(X1,y, stratify=y,\n",
        "                                                    random_state=42)"
      ],
      "execution_count": 69,
      "outputs": []
    },
    {
      "cell_type": "code",
      "metadata": {
        "colab": {
          "base_uri": "https://localhost:8080/"
        },
        "id": "2lYlViGDirPb",
        "outputId": "a901118d-c0eb-4ba0-d315-4854d1a19e80"
      },
      "source": [
        "print(y_train.mean())\n",
        "print(y_test.mean())\n"
      ],
      "execution_count": 70,
      "outputs": [
        {
          "output_type": "stream",
          "name": "stdout",
          "text": [
            "Class    0.349609\n",
            "dtype: float64\n",
            "Class    0.350877\n",
            "dtype: float64\n"
          ]
        }
      ]
    },
    {
      "cell_type": "code",
      "metadata": {
        "id": "6N01_or_i7Zc"
      },
      "source": [
        "from sklearn.preprocessing import MinMaxScaler, StandardScaler\n",
        "\n"
      ],
      "execution_count": 71,
      "outputs": []
    },
    {
      "cell_type": "code",
      "metadata": {
        "id": "YKfZ8_fSjPJQ"
      },
      "source": [
        "scaler_minmax = MinMaxScaler()\n",
        "scaler_standard = StandardScaler()\n"
      ],
      "execution_count": 72,
      "outputs": []
    },
    {
      "cell_type": "code",
      "metadata": {
        "id": "Gv2DgarJjcPy"
      },
      "source": [
        "scaler_minmax.fit(X_train)\n",
        "X_scaled_minmax_train = scaler_minmax.transform(X_train)\n"
      ],
      "execution_count": 73,
      "outputs": []
    },
    {
      "cell_type": "code",
      "metadata": {
        "id": "udqOgAVbj-5k"
      },
      "source": [
        "scaler_standard.fit(X_train)\n",
        "X_scaled_standard_train = scaler_standard.transform(X_train)\n",
        "\n"
      ],
      "execution_count": 74,
      "outputs": []
    },
    {
      "cell_type": "code",
      "metadata": {
        "id": "BeY1h0YekJS5"
      },
      "source": [
        "X_scaled_minmax_test = scaler_minmax.transform(X_test)\n",
        "X_scaled_standard_test = scaler_standard.transform(X_test)\n"
      ],
      "execution_count": 75,
      "outputs": []
    },
    {
      "cell_type": "code",
      "metadata": {
        "colab": {
          "base_uri": "https://localhost:8080/"
        },
        "id": "Rwsjj4N1kTxk",
        "outputId": "0aa133c3-64c9-43e0-8c96-d1d92b0b231f"
      },
      "source": [
        "from sklearn.linear_model import LogisticRegression\n",
        "model = LogisticRegression()\n",
        "model.fit(X_scaled_minmax_train,y_train)\n"
      ],
      "execution_count": 80,
      "outputs": [
        {
          "output_type": "stream",
          "name": "stderr",
          "text": [
            "/usr/local/lib/python3.7/dist-packages/sklearn/utils/validation.py:985: DataConversionWarning: A column-vector y was passed when a 1d array was expected. Please change the shape of y to (n_samples, ), for example using ravel().\n",
            "  y = column_or_1d(y, warn=True)\n"
          ]
        },
        {
          "output_type": "execute_result",
          "data": {
            "text/plain": [
              "LogisticRegression()"
            ]
          },
          "metadata": {},
          "execution_count": 80
        }
      ]
    },
    {
      "cell_type": "code",
      "metadata": {
        "colab": {
          "base_uri": "https://localhost:8080/"
        },
        "id": "69R7gnGzmez1",
        "outputId": "bebe139d-8cd0-47ca-a94f-1aa17be46351"
      },
      "source": [
        "X_scaled_minmax_train.shape"
      ],
      "execution_count": 81,
      "outputs": [
        {
          "output_type": "execute_result",
          "data": {
            "text/plain": [
              "(512, 9)"
            ]
          },
          "metadata": {},
          "execution_count": 81
        }
      ]
    },
    {
      "cell_type": "code",
      "metadata": {
        "colab": {
          "base_uri": "https://localhost:8080/"
        },
        "id": "nJ40GQ20ktXn",
        "outputId": "750ca9db-690f-4bf5-bf93-96c6e520a296"
      },
      "source": [
        "pred_train = model.predict(X_scaled_minmax_train)\n",
        "model.score(X_scaled_minmax_train, y_train)"
      ],
      "execution_count": 82,
      "outputs": [
        {
          "output_type": "execute_result",
          "data": {
            "text/plain": [
              "0.97265625"
            ]
          },
          "metadata": {},
          "execution_count": 82
        }
      ]
    },
    {
      "cell_type": "code",
      "metadata": {
        "colab": {
          "base_uri": "https://localhost:8080/"
        },
        "id": "uO-1rWYTktgG",
        "outputId": "5caf2b0f-a61b-4cbb-88a3-5cbbfd2200c1"
      },
      "source": [
        "pred_test = model.predict(X_scaled_minmax_test)\n",
        "model.score(X_scaled_minmax_test,y_test)"
      ],
      "execution_count": 83,
      "outputs": [
        {
          "output_type": "execute_result",
          "data": {
            "text/plain": [
              "0.9590643274853801"
            ]
          },
          "metadata": {},
          "execution_count": 83
        }
      ]
    },
    {
      "cell_type": "code",
      "metadata": {
        "colab": {
          "base_uri": "https://localhost:8080/"
        },
        "id": "UyES6yeuktto",
        "outputId": "a23731ad-bd5d-41aa-e5b1-23049f478d38"
      },
      "source": [
        "from sklearn.metrics import confusion_matrix\n",
        "confusion_train = confusion_matrix(y_train, pred_train)\n",
        "print(confusion_train)"
      ],
      "execution_count": 84,
      "outputs": [
        {
          "output_type": "stream",
          "name": "stdout",
          "text": [
            "[[328   5]\n",
            " [  9 170]]\n"
          ]
        }
      ]
    },
    {
      "cell_type": "code",
      "metadata": {
        "colab": {
          "base_uri": "https://localhost:8080/",
          "height": 423
        },
        "id": "uOu-P844ktyT",
        "outputId": "f5b19d2c-ee8d-4cf1-b9c2-cad815bf9e80"
      },
      "source": [
        "y_train"
      ],
      "execution_count": 85,
      "outputs": [
        {
          "output_type": "execute_result",
          "data": {
            "text/html": [
              "<div>\n",
              "<style scoped>\n",
              "    .dataframe tbody tr th:only-of-type {\n",
              "        vertical-align: middle;\n",
              "    }\n",
              "\n",
              "    .dataframe tbody tr th {\n",
              "        vertical-align: top;\n",
              "    }\n",
              "\n",
              "    .dataframe thead th {\n",
              "        text-align: right;\n",
              "    }\n",
              "</style>\n",
              "<table border=\"1\" class=\"dataframe\">\n",
              "  <thead>\n",
              "    <tr style=\"text-align: right;\">\n",
              "      <th></th>\n",
              "      <th>Class</th>\n",
              "    </tr>\n",
              "  </thead>\n",
              "  <tbody>\n",
              "    <tr>\n",
              "      <th>131</th>\n",
              "      <td>0</td>\n",
              "    </tr>\n",
              "    <tr>\n",
              "      <th>6</th>\n",
              "      <td>0</td>\n",
              "    </tr>\n",
              "    <tr>\n",
              "      <th>0</th>\n",
              "      <td>0</td>\n",
              "    </tr>\n",
              "    <tr>\n",
              "      <th>269</th>\n",
              "      <td>0</td>\n",
              "    </tr>\n",
              "    <tr>\n",
              "      <th>56</th>\n",
              "      <td>1</td>\n",
              "    </tr>\n",
              "    <tr>\n",
              "      <th>...</th>\n",
              "      <td>...</td>\n",
              "    </tr>\n",
              "    <tr>\n",
              "      <th>515</th>\n",
              "      <td>1</td>\n",
              "    </tr>\n",
              "    <tr>\n",
              "      <th>216</th>\n",
              "      <td>1</td>\n",
              "    </tr>\n",
              "    <tr>\n",
              "      <th>312</th>\n",
              "      <td>1</td>\n",
              "    </tr>\n",
              "    <tr>\n",
              "      <th>11</th>\n",
              "      <td>0</td>\n",
              "    </tr>\n",
              "    <tr>\n",
              "      <th>268</th>\n",
              "      <td>0</td>\n",
              "    </tr>\n",
              "  </tbody>\n",
              "</table>\n",
              "<p>512 rows × 1 columns</p>\n",
              "</div>"
            ],
            "text/plain": [
              "     Class\n",
              "131      0\n",
              "6        0\n",
              "0        0\n",
              "269      0\n",
              "56       1\n",
              "..     ...\n",
              "515      1\n",
              "216      1\n",
              "312      1\n",
              "11       0\n",
              "268      0\n",
              "\n",
              "[512 rows x 1 columns]"
            ]
          },
          "metadata": {},
          "execution_count": 85
        }
      ]
    },
    {
      "cell_type": "code",
      "metadata": {
        "id": "4HqCnpMekt2A"
      },
      "source": [
        "confusion_test = confusion_matrix(y_test, pred_test)"
      ],
      "execution_count": 87,
      "outputs": []
    },
    {
      "cell_type": "code",
      "metadata": {
        "colab": {
          "base_uri": "https://localhost:8080/"
        },
        "id": "qaNkQQK9m03T",
        "outputId": "37bd9dcc-c1e9-435b-d72f-3b14414a83bc"
      },
      "source": [
        "print(confusion_test)"
      ],
      "execution_count": 88,
      "outputs": [
        {
          "output_type": "stream",
          "name": "stdout",
          "text": [
            "[[106   5]\n",
            " [  2  58]]\n"
          ]
        }
      ]
    },
    {
      "cell_type": "code",
      "metadata": {
        "id": "LFrVi_BAm6Zh"
      },
      "source": [
        ""
      ],
      "execution_count": null,
      "outputs": []
    }
  ]
}